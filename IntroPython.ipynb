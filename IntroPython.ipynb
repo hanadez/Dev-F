{
 "cells": [
  {
   "cell_type": "markdown",
   "metadata": {
    "id": "V7wzI38DKsxk"
   },
   "source": [
    "# Introducción a la programación con Python\n",
    "\n",
    "En este notebook introducimos una cantidad suficiente de Python para poder comenzar a programar por nuestra cuenta y continuar nuestro aprendizaje.\n",
    "\n",
    "El flujo y ejemplos están basados en el tutorial [A Whirlwind Tour of Python](https://jakevdp.github.io/WhirlwindTourOfPython/) de Jake VanderPlas, autor de \"The Python Data Science Handbook\".\n",
    "\n",
    "El contenido está pensado para ser expuesto, modificado y construido durante la clase bajo el método de enseñanza *live-coding*, por lo que se recomienda estudiarlo acompañado del video de la clase.\n",
    "\n",
    "Existen dos versiones, la *bare-bone*, o versión inicial, con un esqueleto del contenido, y la versión final, resultado de la clase."
   ]
  },
  {
   "cell_type": "markdown",
   "metadata": {
    "id": "MWTkfQnqwkHk"
   },
   "source": [
    "# Agenda\n",
    "\n",
    "## 0. Variables y tipos.\n",
    "## 1.  Listas y Diccionarios\n",
    "## 2. Operadores básicos.\n",
    "## 3. Condiciones.\n",
    "## 4. Ciclos.\n",
    "## 5. Funciones.\n",
    "\n"
   ]
  },
  {
   "cell_type": "markdown",
   "metadata": {
    "id": "dQ_qJMnbwObF"
   },
   "source": [
    "## Sintaxis básica en Python\n",
    "### Veamos primero un ejemplo básico de lo que podemos hacer en Python"
   ]
  },
  {
   "cell_type": "markdown",
   "metadata": {
    "id": "NYrGDLV1xMNU"
   },
   "source": [
    "### Primero una suma simple"
   ]
  },
  {
   "cell_type": "code",
   "execution_count": 2,
   "metadata": {
    "id": "0tJ3OpOlOyT6"
   },
   "outputs": [],
   "source": [
    "x = (1 + 2 + 3 + 4 +                        #aqui el enter no afecta la suma o algo asi\n",
    "    5 + 6 + 7 + 8 + 9)"
   ]
  },
  {
   "cell_type": "markdown",
   "metadata": {
    "id": "Ad61V7uOxQLv"
   },
   "source": [
    "## Ahora una combinación simple de instrucciones"
   ]
  },
  {
   "cell_type": "code",
   "execution_count": 3,
   "metadata": {
    "id": "Yurd3FA9xbo6"
   },
   "outputs": [
    {
     "name": "stdout",
     "output_type": "stream",
     "text": [
      "lower: [0, 1, 2, 3, 4]\n",
      "upper: [5, 6, 7, 8, 9]\n"
     ]
    }
   ],
   "source": [
    "# set the midpoint\n",
    "midpoint = 5\n",
    "\n",
    "# make two empty lists\n",
    "lower = []\n",
    "upper = []\n",
    "\n",
    "# split the numbers into lower and upper\n",
    "for i in range(10):\n",
    "    if (i < midpoint):\n",
    "        lower.append(i)\n",
    "    else:\n",
    "        upper.append(i)\n",
    "        \n",
    "print(\"lower:\", lower)\n",
    "print(\"upper:\", upper)"
   ]
  },
  {
   "cell_type": "markdown",
   "metadata": {
    "id": "Ud-Em2B6yCpO"
   },
   "source": [
    "## Python es noble con la sintaxis"
   ]
  },
  {
   "cell_type": "code",
   "execution_count": 4,
   "metadata": {
    "id": "Dh-xMWagQc57"
   },
   "outputs": [
    {
     "data": {
      "text/plain": [
       "3"
      ]
     },
     "execution_count": 4,
     "metadata": {},
     "output_type": "execute_result"
    }
   ],
   "source": [
    "x = 1 +                                 2                           #El espacio en blanco dentro de las líneas no importa\n",
    "x"
   ]
  },
  {
   "cell_type": "markdown",
   "metadata": {
    "id": "asekzt5r0hOa"
   },
   "source": [
    "## Algunas notas de Python\n",
    "- Los comentarios están marcados con #\n",
    "- Fin de línea finaliza una declaración\n",
    "- El punto y coma puede opcionalmente terminar una declaración\n",
    "- Sangría: ¡el espacio en blanco importa!\n",
    "- El espacio en blanco dentro de las líneas no importa\n",
    "- Los paréntesis son para agrupar o llamar"
   ]
  },
  {
   "cell_type": "markdown",
   "metadata": {
    "id": "SN1N1ZNSySOd"
   },
   "source": [
    "## Ahora nuestro primer programita en Python"
   ]
  },
  {
   "cell_type": "code",
   "execution_count": 5,
   "metadata": {
    "id": "KrgmmPvV7_aP"
   },
   "outputs": [
    {
     "name": "stdout",
     "output_type": "stream",
     "text": [
      "¡Hola, Mundo! 3\n"
     ]
    }
   ],
   "source": [
    "print(\"¡Hola, Mundo!\", x)"
   ]
  },
  {
   "cell_type": "markdown",
   "metadata": {
    "id": "lpenQGogyb6G"
   },
   "source": [
    "## Las listas son de las estructuras de datos mas utilizadas de Python"
   ]
  },
  {
   "cell_type": "code",
   "execution_count": 6,
   "metadata": {
    "id": "KBzaTB7zRSML"
   },
   "outputs": [
    {
     "name": "stdout",
     "output_type": "stream",
     "text": [
      "[4, 2, 3, 1]\n"
     ]
    }
   ],
   "source": [
    "L = [4, 2, 3, 1]\n",
    "print(L)"
   ]
  },
  {
   "cell_type": "markdown",
   "metadata": {
    "id": "6sUCRJXTyqcY"
   },
   "source": [
    "### Hasta la podemos ordenar"
   ]
  },
  {
   "cell_type": "code",
   "execution_count": 7,
   "metadata": {
    "id": "LKw4-t6ZRYuB"
   },
   "outputs": [
    {
     "data": {
      "text/plain": [
       "[1, 2, 3, 4]"
      ]
     },
     "execution_count": 7,
     "metadata": {},
     "output_type": "execute_result"
    }
   ],
   "source": [
    "L.sort()\n",
    "L"
   ]
  },
  {
   "cell_type": "markdown",
   "metadata": {
    "id": "5UVwrIGcwTzy"
   },
   "source": [
    "## Variables\n",
    "\n",
    "- Las variables de Python son punteros\n",
    "- Todo es un objeto\n",
    "\n",
    "|Type|\tExample|\tDescription\n",
    "|---|---|---|\n",
    "int\t|x = 1|\tintegers (i.e., whole numbers)\n",
    "float\t|x = 1.0\t|floating-point numbers (i.e., real numbers)\n",
    "complex\t|x = 1 + 2j|\tComplex numbers (i.e., numbers with real and imaginary part)\n",
    "bool\t|x = True|\tBoolean: True/False values\n",
    "str\t|x = 'abc'|\tString: characters or text\n",
    "NoneType|\tx = None|\tSpecial object indicating nulls"
   ]
  },
  {
   "cell_type": "markdown",
   "metadata": {
    "id": "hXJEBJTWy7C_"
   },
   "source": [
    "Las variables son **ubicaciones de memoria reservada** para guardar valores y en Python no se declaran explícitamente.\n",
    "\n",
    "Usamos  el signo igual (=) para crear asignaciones de variables.\n",
    "\n",
    "El operando del lado izquierdo del **signo igual (=) es el nombre de la variable**, y el operando de la derecha es el valor guardado en esa variable."
   ]
  },
  {
   "cell_type": "markdown",
   "metadata": {
    "id": "D4HkIVrSzQ7w",
    "tags": []
   },
   "source": [
    "# Definiendo una variable\n",
    "\n",
    "Podemos crear una variable llamada edad y asignarle un valor numérico:\n",
    "\n",
    "**edad = 33**\n",
    "\n",
    "O crear otra variable donde guardamos tu nombre como cadena de caracteres:\n",
    "\n",
    "**nombre = “Ada Lovelace”**\n"
   ]
  },
  {
   "cell_type": "code",
   "execution_count": 8,
   "metadata": {
    "id": "BMBaPdSV8xc7"
   },
   "outputs": [],
   "source": [
    "edad = 27"
   ]
  },
  {
   "cell_type": "code",
   "execution_count": 9,
   "metadata": {
    "id": "JQlT4LgPzbgi"
   },
   "outputs": [],
   "source": [
    "nombre = \"Ana Hernández\""
   ]
  },
  {
   "cell_type": "markdown",
   "metadata": {
    "id": "mtpj5EN2zheO"
   },
   "source": [
    "# Listas y diccionarios"
   ]
  },
  {
   "cell_type": "markdown",
   "metadata": {
    "id": "H_CIjqEqznqT"
   },
   "source": [
    "Una Lista puede guardar todo tipo de variables, y puede contener cuantas variables desees.\n",
    "\n",
    "Los valores guardados en una lista se pueden acceder usando el operador slice ([ ] y [:]) con índices en 0 al inicio de la lista y hasta el final -1.\n",
    "\n",
    "Los diccionarios son similares a las listas, pero funcionan con llaves(claves) y valores en vez de índices."
   ]
  },
  {
   "cell_type": "markdown",
   "metadata": {
    "id": "rju0J4WczqbN"
   },
   "source": [
    "## Declarando una lista\n",
    "\n",
    "Podemos crear una lista y asignarle cualquier tipo de dato como números y cadenas de caracteres:\n",
    "\n",
    "\n",
    "lista = [ 'abcd', 389 , 2.25, 'Willemien', 70.2 ]\n",
    "\n",
    "\n",
    "lista_pequena = [123, 'Will']\n"
   ]
  },
  {
   "cell_type": "code",
   "execution_count": 10,
   "metadata": {
    "id": "HZz9b10tSJNA"
   },
   "outputs": [],
   "source": [
    "x = [0.5, [1,2,\"pato\"], True]\n"
   ]
  },
  {
   "cell_type": "code",
   "execution_count": 11,
   "metadata": {
    "id": "0qG-kBjPSP6m"
   },
   "outputs": [],
   "source": [
    "lista = ['abcd', 389, 2.25, 'Willemien', 70.2]"
   ]
  },
  {
   "cell_type": "code",
   "execution_count": 14,
   "metadata": {
    "id": "Oyf7G6wmAz4e"
   },
   "outputs": [],
   "source": [
    "lista_pequena = [123, 'Will']"
   ]
  },
  {
   "cell_type": "markdown",
   "metadata": {
    "id": "WqijJy-4wbzY"
   },
   "source": [
    "# Operadores"
   ]
  },
  {
   "cell_type": "markdown",
   "metadata": {
    "id": "fArm64_B0lCi"
   },
   "source": [
    "# Operadores básicos\n",
    "Como en cualquier lenguaje moderno, podemos hacer operaciones matemáticas como adición, sustracción, multiplicación y división.\n",
    "\n",
    "Los operadores +, -, * y / sirven para manipular números o variables que contengan números y realizar cálculos desde Python.\n",
    "\n",
    "# Usando operadores básicos\n",
    "Podemos crear una variable para guardar el resultado de una suma, multiplicación y división:\n",
    "\n",
    "numero_final = 1 + 2 * 3 / 4 \n",
    "print(numero_final)\n",
    "\n",
    "También podemos hacer adición de cadenas de caracteres:\n",
    "\n",
    "sapere_aude = \"sapere\" + \" \" + \"aude\"\n",
    "print(sapere_aude)\n"
   ]
  },
  {
   "cell_type": "markdown",
   "metadata": {
    "id": "khCfSYGN-QMG"
   },
   "source": [
    "### Operadores aritméticos\n",
    "\n",
    "\n",
    "|Operator\t|Name\t\n",
    "| ----- - | --- \n",
    "a + b\t| Suma\n",
    "a - b\t| Resta\n",
    "a * b\t| Multiplicación\n",
    "a / b\t| Division\t\n",
    "a // b | Division entera\n",
    "a % b | Módulo\t\n",
    "a ** b | Exponenciación\n",
    "-a | Negación\n",
    " +a | Unary \n",
    " @ | Producto de matrices"
   ]
  },
  {
   "cell_type": "code",
   "execution_count": 16,
   "metadata": {
    "id": "knXxLixZ_ebT"
   },
   "outputs": [
    {
     "name": "stdout",
     "output_type": "stream",
     "text": [
      "2.5\n"
     ]
    }
   ],
   "source": [
    "numero_final = 1 + 2 * 3 / 4\n",
    "print(numero_final)"
   ]
  },
  {
   "cell_type": "code",
   "execution_count": 17,
   "metadata": {
    "id": "_AMAsKwLYo2J"
   },
   "outputs": [
    {
     "name": "stdout",
     "output_type": "stream",
     "text": [
      "sapere aude\n"
     ]
    }
   ],
   "source": [
    "sapere_aude = \"sapere\" + \" \" + \"aude\"\n",
    "print(sapere_aude)"
   ]
  },
  {
   "cell_type": "code",
   "execution_count": 30,
   "metadata": {
    "id": "OOxYHqq_A1i_"
   },
   "outputs": [
    {
     "data": {
      "text/plain": [
       "-1"
      ]
     },
     "execution_count": 30,
     "metadata": {},
     "output_type": "execute_result"
    }
   ],
   "source": [
    "num = 1\n",
    "-num"
   ]
  },
  {
   "cell_type": "markdown",
   "metadata": {
    "id": "7uLXONgE-Uxf"
   },
   "source": [
    "### Operaciones bit a bit\n",
    "\n",
    "|Operator\t|Name\t\n",
    "| --- | --- |\n",
    "|a & b\t|Bitwise AND\t\n",
    "|a \\| b\t|Bitwise OR\t\n",
    "|a ^ b\t|Bitwise XOR\t\n",
    "|a << b\t|Bit shift left\t\n",
    "|a >> b\t|Bit shift right\t\n",
    "|~a\t|Bitwise NOT\t\n"
   ]
  },
  {
   "cell_type": "code",
   "execution_count": 31,
   "metadata": {
    "id": "QPKl-v_E-Oh_"
   },
   "outputs": [
    {
     "data": {
      "text/plain": [
       "'0b10010'"
      ]
     },
     "execution_count": 31,
     "metadata": {},
     "output_type": "execute_result"
    }
   ],
   "source": [
    "bin(18)           #10010"
   ]
  },
  {
   "cell_type": "code",
   "execution_count": 46,
   "metadata": {
    "id": "BM1kmSdCZESH"
   },
   "outputs": [
    {
     "data": {
      "text/plain": [
       "4.5"
      ]
     },
     "execution_count": 46,
     "metadata": {},
     "output_type": "execute_result"
    }
   ],
   "source": [
    "bin(2)            #00010\n",
    "18 / 2**2"
   ]
  },
  {
   "cell_type": "code",
   "execution_count": 99,
   "metadata": {
    "id": "wCVc0HalZK6w"
   },
   "outputs": [
    {
     "name": "stdout",
     "output_type": "stream",
     "text": [
      "2\n",
      "18\n",
      "16\n",
      "72\n",
      "4\n",
      "-19\n"
     ]
    }
   ],
   "source": [
    "print(18 & 2)        #00010 =   2\n",
    "print(18 | 2)        #10010 =  18\n",
    "print(18 ^ 2)        #10000 =  16\n",
    "print(18 << 2)     #1001000 =  72 =  18 * 2**2\n",
    "print(18 >> 2)         #100 =   4 = \"18 / 2**2\"\n",
    "print(~ 18)     #-(10010+1) = -19"
   ]
  },
  {
   "cell_type": "markdown",
   "metadata": {
    "id": "Pjx_unYGAXT0"
   },
   "source": [
    "### Operaciones de asignación\n",
    "\n",
    "| | | | |\n",
    "| --- | --- | --- | --- |\n",
    "|a += b|\ta -= b|\ta *= b\t|a /= b|\n",
    "|a //= b|\ta %= b|\ta **= b|\ta &= b|\n",
    "|a \\|= b|\ta ^= b|\ta <<= b\t|a >>= b|"
   ]
  },
  {
   "cell_type": "code",
   "execution_count": 100,
   "metadata": {
    "id": "SfC5p3DdZZ_v"
   },
   "outputs": [],
   "source": [
    "a = 18\n",
    "b = 2"
   ]
  },
  {
   "cell_type": "code",
   "execution_count": 101,
   "metadata": {
    "id": "xn8It8mCZc6T"
   },
   "outputs": [
    {
     "name": "stdout",
     "output_type": "stream",
     "text": [
      "a = 18 + 2 = 20\n",
      "a = 20 - 2 = 18\n",
      "a = 18 * 2 = 36\n",
      "a = 36 / 2 = 18.0\n",
      "a = 18.0 // 2 = 9.0\n",
      "a = 9.0 % 2 = 1.0\n",
      "a = 1.0 ** 2 = 1.0\n"
     ]
    }
   ],
   "source": [
    "print(\"a =\", a, \"+\", b, end =\" = \")\n",
    "a += b\n",
    "print(a)\n",
    "\n",
    "print(\"a =\", a, \"-\", b, end =\" = \")\n",
    "a -= b\n",
    "print(a)\n",
    "\n",
    "print(\"a =\", a, \"*\", b, end =\" = \")\n",
    "a *= b\n",
    "print(a)\n",
    "\n",
    "print(\"a =\", a, \"/\", b, end =\" = \")\n",
    "a /= b\n",
    "print(a)\n",
    "\n",
    "print(\"a =\", a, \"//\", b, end =\" = \")\n",
    "a //= b\n",
    "print(a)\n",
    "\n",
    "print(\"a =\", a, \"%\", b, end =\" = \")\n",
    "a %= b\n",
    "print(a)\n",
    "\n",
    "print(\"a =\", a, \"**\", b, end =\" = \")\n",
    "a **= b\n",
    "print(a)"
   ]
  },
  {
   "cell_type": "code",
   "execution_count": 102,
   "metadata": {
    "id": "_cBCmhMqA2HQ"
   },
   "outputs": [
    {
     "name": "stdout",
     "output_type": "stream",
     "text": [
      "0 = 0\n",
      "13 = 13\n",
      "15 = 15\n",
      "60 = 60\n",
      "3 = 3\n"
     ]
    }
   ],
   "source": [
    "a = 18\n",
    "a &= 13                      \n",
    "print(a, \"=\" , 18 & 13)      # a = 0\n",
    "a |= 13                      \n",
    "print(a, \"=\", 0 | 13)        # a = 13\n",
    "a ^= 2                \n",
    "print(a, \"=\" , 13 ^ 2)       # a = 15   \n",
    "a <<= 2               \n",
    "print(a, \"=\" , 15 << 2)      # a = 60\n",
    "a >>= 4                \n",
    "print(a, \"=\" , 60 >> 4)      # a = 3"
   ]
  },
  {
   "cell_type": "markdown",
   "metadata": {
    "id": "-7NF3WOxA1_U"
   },
   "source": [
    "### Operadores de comparación\n",
    "\n",
    "| | |\n",
    "|---|---|\n",
    "|a == b| a != b|\n",
    "|a < b  | a > b\n",
    "|a <= b |\ta >= b"
   ]
  },
  {
   "cell_type": "code",
   "execution_count": 103,
   "metadata": {
    "id": "1G5pON9oZps5"
   },
   "outputs": [],
   "source": [
    "a = 18\n",
    "b = 21"
   ]
  },
  {
   "cell_type": "code",
   "execution_count": 104,
   "metadata": {
    "id": "3cjK2LH5Z01L"
   },
   "outputs": [
    {
     "name": "stdout",
     "output_type": "stream",
     "text": [
      "False\n",
      "True\n",
      "True\n"
     ]
    }
   ],
   "source": [
    "print(a == b)\n",
    "print(a < b)\n",
    "print(a <= b)"
   ]
  },
  {
   "cell_type": "code",
   "execution_count": 108,
   "metadata": {
    "id": "YZ8cJJ-NA2qk"
   },
   "outputs": [
    {
     "name": "stdout",
     "output_type": "stream",
     "text": [
      "True\n",
      "False\n",
      "False\n"
     ]
    }
   ],
   "source": [
    "print(a != b)\n",
    "print(a > b)\n",
    "print(a >= b)"
   ]
  },
  {
   "cell_type": "markdown",
   "metadata": {
    "id": "26BWEl-LBlRB"
   },
   "source": [
    "### Operaciones Booleanas\n",
    "\n",
    "| | | |\n",
    "| --- | --- | --- |\n",
    "|and | or | not|"
   ]
  },
  {
   "cell_type": "code",
   "execution_count": 107,
   "metadata": {
    "id": "t4C1ZPDMaG07"
   },
   "outputs": [
    {
     "data": {
      "text/plain": [
       "False"
      ]
     },
     "execution_count": 107,
     "metadata": {},
     "output_type": "execute_result"
    }
   ],
   "source": [
    "a == b and a != b      # False and True is False"
   ]
  },
  {
   "cell_type": "code",
   "execution_count": 109,
   "metadata": {
    "id": "Hk1-lQAeaRpK"
   },
   "outputs": [
    {
     "data": {
      "text/plain": [
       "True"
      ]
     },
     "execution_count": 109,
     "metadata": {},
     "output_type": "execute_result"
    }
   ],
   "source": [
    "a == b or a != b      # False or True is True"
   ]
  },
  {
   "cell_type": "code",
   "execution_count": 110,
   "metadata": {
    "id": "i2os8jEtA3NZ"
   },
   "outputs": [
    {
     "data": {
      "text/plain": [
       "True"
      ]
     },
     "execution_count": 110,
     "metadata": {},
     "output_type": "execute_result"
    }
   ],
   "source": [
    "not a == b            # not False is True"
   ]
  },
  {
   "cell_type": "markdown",
   "metadata": {
    "id": "iQV4tGokCgOJ"
   },
   "source": [
    "### Identity and Membership Operators\n",
    "\n",
    "> Bloque con sangría\n",
    "\n",
    "\n",
    "\n",
    "| | |\n",
    "| - | -|\n",
    "|a is b|\tTrue if a and b are identical objects\n",
    "a is not b|\tTrue if a and b are not identical objects\n",
    "a in b |\tTrue if a is a member of b\n",
    "a not in b\t|True if a is not a member of b"
   ]
  },
  {
   "cell_type": "code",
   "execution_count": 111,
   "metadata": {
    "id": "i6oaKyE2aanR"
   },
   "outputs": [],
   "source": [
    "a = [1, 2, 3, [1,2,3]]\n",
    "b = [1, 2, 3]\n",
    "c = b"
   ]
  },
  {
   "cell_type": "code",
   "execution_count": 112,
   "metadata": {
    "id": "Zk0Lri6CajcW"
   },
   "outputs": [
    {
     "data": {
      "text/plain": [
       "True"
      ]
     },
     "execution_count": 112,
     "metadata": {},
     "output_type": "execute_result"
    }
   ],
   "source": [
    "c is b"
   ]
  },
  {
   "cell_type": "code",
   "execution_count": 113,
   "metadata": {
    "id": "KTfHicBJamSL"
   },
   "outputs": [
    {
     "data": {
      "text/plain": [
       "True"
      ]
     },
     "execution_count": 113,
     "metadata": {},
     "output_type": "execute_result"
    }
   ],
   "source": [
    "a[3] is not b"
   ]
  },
  {
   "cell_type": "code",
   "execution_count": 115,
   "metadata": {
    "id": "fJRkth5Vaplv"
   },
   "outputs": [
    {
     "data": {
      "text/plain": [
       "True"
      ]
     },
     "execution_count": 115,
     "metadata": {},
     "output_type": "execute_result"
    }
   ],
   "source": [
    "b in a"
   ]
  },
  {
   "cell_type": "code",
   "execution_count": 116,
   "metadata": {
    "id": "fJRkth5Vaplv"
   },
   "outputs": [
    {
     "data": {
      "text/plain": [
       "False"
      ]
     },
     "execution_count": 116,
     "metadata": {},
     "output_type": "execute_result"
    }
   ],
   "source": [
    "0 in a"
   ]
  },
  {
   "cell_type": "markdown",
   "metadata": {
    "id": "60K_ktBRwshv"
   },
   "source": [
    "## Estructuras de datos incorporadas\n",
    "\n",
    "|Type Name| Example|\tDescription|\n",
    "|-|-|-|\n",
    "list|\t[1, 2, 3]\t|Ordered collection\n",
    "tuple|\t(1, 2, 3)|\tImmutable ordered collection\n",
    "dict|\t{'a':1, 'b':2, 'c':3}|\tUnordered (key,value) mapping (insertion ordered 3.7+)\n",
    "set\t|{1, 2, 3}|\tUnordered collection of unique values"
   ]
  },
  {
   "cell_type": "code",
   "execution_count": 126,
   "metadata": {
    "id": "6K5R3Y4uce19"
   },
   "outputs": [
    {
     "data": {
      "text/plain": [
       "[1, 2, 3]"
      ]
     },
     "execution_count": 126,
     "metadata": {},
     "output_type": "execute_result"
    }
   ],
   "source": [
    "lista = [1,2,3]\n",
    "lista"
   ]
  },
  {
   "cell_type": "code",
   "execution_count": 127,
   "metadata": {
    "id": "fU80msD2cf0f"
   },
   "outputs": [
    {
     "data": {
      "text/plain": [
       "(1, 2, 3)"
      ]
     },
     "execution_count": 127,
     "metadata": {},
     "output_type": "execute_result"
    }
   ],
   "source": [
    "tupla = (1,2,3)\n",
    "tupla"
   ]
  },
  {
   "cell_type": "code",
   "execution_count": 128,
   "metadata": {
    "id": "7_agAnsZcmEa"
   },
   "outputs": [
    {
     "data": {
      "text/plain": [
       "{'a': 1, 'b': 2, 'c': 3}"
      ]
     },
     "execution_count": 128,
     "metadata": {},
     "output_type": "execute_result"
    }
   ],
   "source": [
    "diccionario = {'a':1, 'b':2, 'c':3}\n",
    "diccionario"
   ]
  },
  {
   "cell_type": "code",
   "execution_count": 129,
   "metadata": {
    "id": "FaMdhj6ecp9Q"
   },
   "outputs": [
    {
     "data": {
      "text/plain": [
       "{1, 2, 3}"
      ]
     },
     "execution_count": 129,
     "metadata": {},
     "output_type": "execute_result"
    }
   ],
   "source": [
    "conjunto = {1,2,3,3}\n",
    "conjunto"
   ]
  },
  {
   "cell_type": "markdown",
   "metadata": {
    "id": "MvDKNgH8IeHq",
    "tags": []
   },
   "source": [
    "#### List comprehension"
   ]
  },
  {
   "cell_type": "markdown",
   "metadata": {
    "id": "VkaqP4srrGQH"
   },
   "source": [
    "Métodos útiles para listas:\n",
    "- append\n",
    "- count\n",
    "- index\n",
    "- sort\n",
    "- reverse"
   ]
  },
  {
   "cell_type": "markdown",
   "metadata": {
    "id": "_eS-uI48OXig"
   },
   "source": [
    "### Tuplas"
   ]
  },
  {
   "cell_type": "code",
   "execution_count": 131,
   "metadata": {
    "id": "5p_tamwtc2Tv"
   },
   "outputs": [
    {
     "ename": "AttributeError",
     "evalue": "'tuple' object has no attribute 'append'",
     "output_type": "error",
     "traceback": [
      "\u001b[1;31m---------------------------------------------------------------------------\u001b[0m",
      "\u001b[1;31mAttributeError\u001b[0m                            Traceback (most recent call last)",
      "\u001b[1;32m~\\AppData\\Local\\Temp/ipykernel_13996/2084972491.py\u001b[0m in \u001b[0;36m<module>\u001b[1;34m\u001b[0m\n\u001b[1;32m----> 1\u001b[1;33m \u001b[0mtupla\u001b[0m\u001b[1;33m.\u001b[0m\u001b[0mappend\u001b[0m\u001b[1;33m(\u001b[0m\u001b[1;36m1\u001b[0m\u001b[1;33m)\u001b[0m\u001b[1;33m\u001b[0m\u001b[1;33m\u001b[0m\u001b[0m\n\u001b[0m",
      "\u001b[1;31mAttributeError\u001b[0m: 'tuple' object has no attribute 'append'"
     ]
    }
   ],
   "source": [
    "tupla.append(1)     "
   ]
  },
  {
   "cell_type": "code",
   "execution_count": null,
   "metadata": {
    "id": "Bk56eOzRc7Uf"
   },
   "outputs": [],
   "source": []
  },
  {
   "cell_type": "code",
   "execution_count": null,
   "metadata": {
    "id": "c_W0cPUPdIZm"
   },
   "outputs": [],
   "source": []
  },
  {
   "cell_type": "code",
   "execution_count": null,
   "metadata": {
    "id": "8yt1X9cRdT24"
   },
   "outputs": [],
   "source": []
  },
  {
   "cell_type": "code",
   "execution_count": null,
   "metadata": {
    "id": "sqIuJ4u4djzJ"
   },
   "outputs": [],
   "source": []
  },
  {
   "cell_type": "markdown",
   "metadata": {
    "id": "sT48IcS3OERZ"
   },
   "source": [
    "### Diccionarios"
   ]
  },
  {
   "cell_type": "code",
   "execution_count": null,
   "metadata": {
    "id": "srUvzeH6dtXx"
   },
   "outputs": [],
   "source": [
    "# key: value pair\n"
   ]
  },
  {
   "cell_type": "code",
   "execution_count": null,
   "metadata": {
    "id": "IVCtE9t7d-Mk"
   },
   "outputs": [],
   "source": []
  },
  {
   "cell_type": "code",
   "execution_count": null,
   "metadata": {
    "id": "movyR5a8eRH1"
   },
   "outputs": [],
   "source": []
  },
  {
   "cell_type": "code",
   "execution_count": null,
   "metadata": {
    "id": "oZOhNZYOeWkg"
   },
   "outputs": [],
   "source": []
  },
  {
   "cell_type": "markdown",
   "metadata": {
    "id": "RUWGpKHSOJhB"
   },
   "source": [
    "### Conjuntos (Sets)"
   ]
  },
  {
   "cell_type": "code",
   "execution_count": null,
   "metadata": {
    "id": "J1ZUc07DecK1"
   },
   "outputs": [],
   "source": []
  },
  {
   "cell_type": "code",
   "execution_count": null,
   "metadata": {
    "id": "2CoZCEM9ektC"
   },
   "outputs": [],
   "source": []
  },
  {
   "cell_type": "code",
   "execution_count": null,
   "metadata": {
    "id": "9yXvHAzQe3bw"
   },
   "outputs": [],
   "source": []
  },
  {
   "cell_type": "markdown",
   "metadata": {
    "id": "Fu-9K1Xcwyra"
   },
   "source": [
    "## Flujo de control"
   ]
  },
  {
   "cell_type": "markdown",
   "metadata": {
    "id": "t_8nzXjT1Jvf"
   },
   "source": [
    "Python soporta las condiciones lógicas comunes en matemáticas:\n",
    "\n",
    "Igualdad: \t\t\t\t\tmanzana == banana\n",
    "\n",
    "Desigualdad: \t\t\t\tmanzana != banana\n",
    "\n",
    "Menor que: \t\t\t\t\tmanzana < banana\n",
    "\n",
    "Menor o igual a que: \t\tmanzana <= banana\n",
    "\n",
    "Mayor que: \t\t\t\t\tmanzana > banana\n",
    "\n",
    "Mayor o igual que: \t\t\tmanzana >= banana"
   ]
  },
  {
   "cell_type": "markdown",
   "metadata": {
    "id": "UvvMSfrC1Z25"
   },
   "source": [
    "Esas condicionales se pueden utilizar de distintas maneras, de manera muy frecuente en las sentencias if y en los ciclos.\n",
    "\n",
    "Python depende de la identación para definir la ejecución de una sentencia condicional como if. Otros lenguajes de programación utilizan las llaves (“{“ y ”}”, respectivamente) para este propósito."
   ]
  },
  {
   "cell_type": "markdown",
   "metadata": {
    "id": "_61maWoEOceN"
   },
   "source": [
    "### Conditional Statements: if-elif-else"
   ]
  },
  {
   "cell_type": "markdown",
   "metadata": {
    "id": "d5VAzApa3ahN"
   },
   "source": [
    "Podemos hace un condicionamiento doble con if y else, elif de la siguiente manera:\n",
    "a = 200\n",
    "b = 33\n",
    "if b > a:\n",
    "   > print(\"b es más grande que a\")\n",
    "\n",
    "elif b=a:\n",
    "   > print(“b es exactamente igual a a”)\n",
    "   \n",
    "else:\n",
    "   > print(\"b no es más grande que a\")\n",
    "\n",
    "O un condicionamiento simple en una sóla línea:\n",
    "\n",
    "if a > b: print(\"a es mayor que b\")\n"
   ]
  },
  {
   "cell_type": "code",
   "execution_count": 140,
   "metadata": {
    "id": "yu-AZiO_lMu0"
   },
   "outputs": [
    {
     "name": "stdout",
     "output_type": "stream",
     "text": [
      "b no es más grande que a\n",
      "a es mayor que b\n"
     ]
    }
   ],
   "source": [
    "a = 200\n",
    "b = 99\n",
    "\n",
    "if b > a:\n",
    "    print(\"b es más grande que a\")\n",
    "elif b == a:\n",
    "    print(\"b es exactamente igual a a\")\n",
    "else:\n",
    "    print(\"b no es más grande que a\")\n",
    "\n",
    "if a > b:\n",
    "    print(\"a es mayor que b\")"
   ]
  },
  {
   "cell_type": "markdown",
   "metadata": {
    "id": "t527s_QS4FDg"
   },
   "source": [
    "# Condicionales: and y or\n",
    "Los operadores booleanos and y or permiten expresiones booleanas complejas como:"
   ]
  },
  {
   "cell_type": "code",
   "execution_count": 144,
   "metadata": {
    "id": "A6EO_GuZ4Lbj"
   },
   "outputs": [
    {
     "name": "stdout",
     "output_type": "stream",
     "text": [
      "a es mayor que b o b es mayor o igual que 100\n"
     ]
    }
   ],
   "source": [
    "if (a < b or a == b) and (b < 100):\n",
    "    print(\"a es menor que 100\")\n",
    "else:\n",
    "    print(\"a es mayor que b o b es mayor o igual que 100\")"
   ]
  },
  {
   "cell_type": "markdown",
   "metadata": {
    "id": "PaeIrmE44Wvo"
   },
   "source": [
    "# Condicionales: in y is\n",
    "Los operadores booleanos in y is permiten expresiones booleanas complejas como:"
   ]
  },
  {
   "cell_type": "code",
   "execution_count": 154,
   "metadata": {
    "id": "KdwJoQoK4YHw"
   },
   "outputs": [
    {
     "name": "stdout",
     "output_type": "stream",
     "text": [
      "['elemento cambiado', 'elemento cambiado', 'elemento cambiado', 'elemento cambiado']\n"
     ]
    }
   ],
   "source": [
    "list_a = [\"a\", \"b\", \"c\", \"d\"]\n",
    "list_b = list_a\n",
    "\n",
    "if list_b is list_a:\n",
    "    for x in list_b:\n",
    "        i = list_b.index(x)\n",
    "        list_b[i] = \"elemento cambiado\"\n",
    "else:\n",
    "    print(\"list_a y list_b no son el mismo objeto\")\n",
    "    \n",
    "print(list_a)     #Note que los cambios se hicierón a la list_b"
   ]
  },
  {
   "cell_type": "code",
   "execution_count": null,
   "metadata": {
    "id": "bmiuBUMq49AA"
   },
   "outputs": [],
   "source": [
    "# is revisa si se trata del mismo objeto"
   ]
  },
  {
   "cell_type": "markdown",
   "metadata": {
    "id": "itEziK8C5coc"
   },
   "source": [
    "# Ciclos\n",
    "\n",
    "Los ciclos sirven para cursar sobre una secuencia (como una lista, un diccionario o una cadena de caracteres).\n",
    "\n",
    "El ciclo for, por ejemplo, permite ejecutar una conjunto de instrucciones, una para cada elemento en la lista, diccionario o cadena de caracteres que pretendemos leer."
   ]
  },
  {
   "cell_type": "markdown",
   "metadata": {
    "id": "1C5otK3aOcx5"
   },
   "source": [
    "## for loops"
   ]
  },
  {
   "cell_type": "markdown",
   "metadata": {
    "id": "3JSxKnoh5kcS",
    "tags": []
   },
   "source": [
    "# Declarando un ciclo for\n",
    "Podemos crear una lista de variables con números primos dentro"
   ]
  },
  {
   "cell_type": "code",
   "execution_count": 180,
   "metadata": {
    "id": "b7ZmclEElRA2"
   },
   "outputs": [
    {
     "name": "stdout",
     "output_type": "stream",
     "text": [
      "[2, 3, 5, 7, 11, 13, 17, 19, 23, 29, 31, 37, 41, 43, 47, 53, 59, 61, 67, 71, 73, 79, 83, 89, 97, 101, 103, 107, 109, 113, 127, 131, 137, 139, 149, 151, 157, 163, 167, 173, 179, 181, 191, 193, 197, 199]\n"
     ]
    }
   ],
   "source": [
    "Lista = []\n",
    "\n",
    "for i in list(range(2, 200)):\n",
    "    for j in Lista:\n",
    "        if (i % j) == 0:\n",
    "            break;\n",
    "    else:\n",
    "        Lista.append(i)\n",
    "        \n",
    "print(Lista)"
   ]
  },
  {
   "cell_type": "markdown",
   "metadata": {
    "id": "0SQqMtB9lZYA"
   },
   "source": [
    "### while loops"
   ]
  },
  {
   "cell_type": "code",
   "execution_count": 182,
   "metadata": {
    "id": "vr0FbT97laxM"
   },
   "outputs": [
    {
     "name": "stdout",
     "output_type": "stream",
     "text": [
      "[2, 3, 5, 7, 11, 13, 17, 19, 23, 29, 31, 37, 41, 43, 47, 53, 59, 61, 67, 71, 73, 79, 83, 89, 97, 101, 103, 107, 109, 113, 127, 131, 137, 139, 149, 151, 157, 163, 167, 173, 179, 181, 191, 193, 197, 199]\n"
     ]
    }
   ],
   "source": [
    "Lista = []\n",
    "i = 2\n",
    "\n",
    "while i < 200:\n",
    "    i += 1\n",
    "    for j in Lista:\n",
    "        if (i-1) % j == 0:\n",
    "            break;\n",
    "    else:\n",
    "        Lista.append(i-1)\n",
    "        \n",
    "print(Lista)"
   ]
  },
  {
   "cell_type": "markdown",
   "metadata": {
    "id": "MwalUZiPlenr"
   },
   "source": [
    "### break and continue: Fine-Tuning Your Loops\n",
    "\n",
    "- `break` se sale del bucle por completo\n",
    "- `continue` omite el resto del ciclo actual y pasa a la siguiente iteración "
   ]
  },
  {
   "cell_type": "code",
   "execution_count": 186,
   "metadata": {
    "id": "0RUUZQLXlu5y"
   },
   "outputs": [
    {
     "name": "stdout",
     "output_type": "stream",
     "text": [
      "1\n",
      "2\n",
      "3\n",
      "4\n",
      "5\n",
      "6\n",
      "7\n",
      "8\n",
      "9\n"
     ]
    }
   ],
   "source": [
    "i = 0\n",
    "while i < 20:\n",
    "    i += 1\n",
    "    if i == 10:\n",
    "        break\n",
    "    print(i)"
   ]
  },
  {
   "cell_type": "code",
   "execution_count": 185,
   "metadata": {
    "id": "aRWUGESvlujS"
   },
   "outputs": [
    {
     "name": "stdout",
     "output_type": "stream",
     "text": [
      "1\n",
      "2\n",
      "3\n",
      "4\n",
      "5\n",
      "6\n",
      "7\n",
      "8\n",
      "9\n",
      "11\n",
      "12\n",
      "13\n",
      "14\n",
      "15\n",
      "16\n",
      "17\n",
      "18\n",
      "19\n",
      "20\n"
     ]
    }
   ],
   "source": [
    "i = 0\n",
    "while i < 20:\n",
    "    i += 1\n",
    "    if i == 10:\n",
    "        continue\n",
    "    print(i)"
   ]
  },
  {
   "cell_type": "markdown",
   "metadata": {
    "id": "vtjA_wmKmKdm"
   },
   "source": [
    "### Loops with an else Block"
   ]
  },
  {
   "cell_type": "code",
   "execution_count": 188,
   "metadata": {
    "id": "-bbv-WJvmOAY"
   },
   "outputs": [
    {
     "name": "stdout",
     "output_type": "stream",
     "text": [
      "1\n",
      "3\n",
      "5\n",
      "7\n",
      "9\n",
      "11\n",
      "13\n",
      "15\n",
      "17\n",
      "19\n"
     ]
    }
   ],
   "source": [
    "i = 0\n",
    "while i < 20:\n",
    "    i += 1\n",
    "    if i % 2 == 0:\n",
    "        continue\n",
    "    else:\n",
    "        print(i)"
   ]
  },
  {
   "cell_type": "markdown",
   "metadata": {
    "id": "l07zEnZew17m"
   },
   "source": [
    "## Funciones"
   ]
  },
  {
   "cell_type": "markdown",
   "metadata": {
    "id": "72TKXLd7maKb"
   },
   "source": [
    "### Key-word arguments"
   ]
  },
  {
   "cell_type": "code",
   "execution_count": 200,
   "metadata": {
    "id": "JXttHZfOmcw4"
   },
   "outputs": [],
   "source": [
    "def cuad(a, b, c):\n",
    "    x1 = -b / (2*a)\n",
    "    x2 = ((b**2 - 4*a*c)**(1/2)) / (2*a)\n",
    "    return (x1 + x2), (x1 - x2)"
   ]
  },
  {
   "cell_type": "code",
   "execution_count": 202,
   "metadata": {
    "id": "NJT0eKLannB7"
   },
   "outputs": [
    {
     "name": "stdout",
     "output_type": "stream",
     "text": [
      "(-1.0, -2.0)\n",
      "(-1.0, -2.0)\n",
      "(-1.0, -2.0)\n",
      "(-0.5, -1.0)\n"
     ]
    }
   ],
   "source": [
    "print(cuad(a=31, b=93, c=62))\n",
    "print(cuad(31, 93, 62))\n",
    "\n",
    "print(cuad(c=62, b=93, a=31))\n",
    "print(cuad(62, 93, 31))"
   ]
  },
  {
   "cell_type": "markdown",
   "metadata": {
    "id": "6h4P48jLmtJ8"
   },
   "source": [
    "### Defining Functions"
   ]
  },
  {
   "cell_type": "markdown",
   "metadata": {
    "id": "KBv28tsi6CgD"
   },
   "source": [
    "Las funciones son una manera conveniente de dividir el código en bloques útiles, permitiendo órden, haciéndolo más leíble, reusable y nos permite ser más productivos.\n",
    "\n",
    "Las funciones son una manera muy valiosa de definir interfaces de manera que los y las programadoras pueden compartir su código."
   ]
  },
  {
   "cell_type": "markdown",
   "metadata": {
    "id": "Dh4rCYsG6OYg"
   },
   "source": [
    "### Usamos la palabra def para declarar nuestra función:"
   ]
  },
  {
   "cell_type": "code",
   "execution_count": 205,
   "metadata": {
    "id": "f8dxrXiH6RDI"
   },
   "outputs": [],
   "source": [
    "def funtion():\n",
    "    print(\"Hola desde la función\")"
   ]
  },
  {
   "cell_type": "markdown",
   "metadata": {
    "id": "Q2CXVZ5U6VIc"
   },
   "source": [
    "O podemos crear una función con argumentos:\n"
   ]
  },
  {
   "cell_type": "code",
   "execution_count": 207,
   "metadata": {
    "id": "TmQOIgFz6Vbz"
   },
   "outputs": [],
   "source": [
    "def saludo(name):\n",
    "    print(\"Hola\", name, \"desde la función\")"
   ]
  },
  {
   "cell_type": "markdown",
   "metadata": {
    "id": "SIRGOG_f6r-X"
   },
   "source": [
    "### Podemos crear funciones que regrese valores\n",
    "\n",
    "### Y podemos hacer uso de la función así y guardar el resultado de la ejecución del método en la variable resultado"
   ]
  },
  {
   "cell_type": "code",
   "execution_count": 209,
   "metadata": {
    "id": "u2OS4BHgmwzW"
   },
   "outputs": [],
   "source": [
    "def cuad(a, b, c):\n",
    "    x1 = -b / (2*a)\n",
    "    x2 = ((b**2 - 4*a*c)**(1/2)) / (2*a)\n",
    "    return (x1 + x2), (x1 - x2)"
   ]
  },
  {
   "cell_type": "code",
   "execution_count": 213,
   "metadata": {
    "id": "LwNvsUjYoY9z"
   },
   "outputs": [],
   "source": [
    "result1, result2 = cuad(62, 93, 31)"
   ]
  },
  {
   "cell_type": "code",
   "execution_count": 214,
   "metadata": {
    "id": "vB-nINIhm6EU"
   },
   "outputs": [
    {
     "name": "stdout",
     "output_type": "stream",
     "text": [
      "-0.5 -1.0\n"
     ]
    }
   ],
   "source": [
    "print(result1, result2)"
   ]
  },
  {
   "cell_type": "markdown",
   "metadata": {
    "id": "PKDN3o0XmtE5"
   },
   "source": [
    "### DValores default para las funciones"
   ]
  },
  {
   "cell_type": "code",
   "execution_count": 224,
   "metadata": {
    "id": "gqsPGSNmm-d2"
   },
   "outputs": [],
   "source": [
    "def tabla(n = 0):\n",
    "    for i in list(range(1,11)):\n",
    "        print(i, \"x\", n, \"=\", n*i)"
   ]
  },
  {
   "cell_type": "code",
   "execution_count": 225,
   "metadata": {
    "id": "AssngshxpIuK"
   },
   "outputs": [
    {
     "name": "stdout",
     "output_type": "stream",
     "text": [
      "1 x 0 = 0\n",
      "2 x 0 = 0\n",
      "3 x 0 = 0\n",
      "4 x 0 = 0\n",
      "5 x 0 = 0\n",
      "6 x 0 = 0\n",
      "7 x 0 = 0\n",
      "8 x 0 = 0\n",
      "9 x 0 = 0\n",
      "10 x 0 = 0\n",
      "1 x 2 = 2\n",
      "2 x 2 = 4\n",
      "3 x 2 = 6\n",
      "4 x 2 = 8\n",
      "5 x 2 = 10\n",
      "6 x 2 = 12\n",
      "7 x 2 = 14\n",
      "8 x 2 = 16\n",
      "9 x 2 = 18\n",
      "10 x 2 = 20\n"
     ]
    }
   ],
   "source": [
    "tabla()\n",
    "tabla(n = 2)"
   ]
  },
  {
   "cell_type": "markdown",
   "metadata": {
    "id": "2rGTAXA6nE1z"
   },
   "source": [
    "### *args and **kwargs: Argumentos Flexibles"
   ]
  },
  {
   "cell_type": "markdown",
   "metadata": {
    "id": "yPfj_v3V--q4"
   },
   "source": [
    "El principal uso de *args y **kwargs es en la definición de funciones. Ambos permiten pasar un número variable de argumentos a una función, por lo que si quieres definir una función cuyo número de parámetros de entrada puede ser variable, considera el uso de *args o **kwargs como una opción.\n",
    "\n",
    "**kwargs permite pasar argumentos de longitud variable asociados con un nombre o key a una función. Deberías usar **kwargs si quieres manejar argumentos con nombre como entrada a una función."
   ]
  },
  {
   "cell_type": "code",
   "execution_count": null,
   "metadata": {
    "id": "Co0QS7x_paYD"
   },
   "outputs": [],
   "source": [
    "def sum(*args, **kwargs)\n",
    "    for args:\n",
    "        "
   ]
  },
  {
   "cell_type": "code",
   "execution_count": null,
   "metadata": {
    "id": "w-trQukNnFwR"
   },
   "outputs": [],
   "source": []
  },
  {
   "cell_type": "code",
   "execution_count": null,
   "metadata": {
    "id": "W_j78Myxp1ck"
   },
   "outputs": [],
   "source": []
  },
  {
   "cell_type": "markdown",
   "metadata": {
    "id": "5jrMM8Wznc6E"
   },
   "source": [
    "### Funciones lambda"
   ]
  },
  {
   "cell_type": "code",
   "execution_count": null,
   "metadata": {
    "id": "RJRIcqWMntw3"
   },
   "outputs": [],
   "source": []
  },
  {
   "cell_type": "code",
   "execution_count": null,
   "metadata": {
    "id": "wF-C3eO6qcwu"
   },
   "outputs": [],
   "source": []
  },
  {
   "cell_type": "code",
   "execution_count": null,
   "metadata": {
    "id": "x0l3_Xj5n0Lh"
   },
   "outputs": [],
   "source": []
  },
  {
   "cell_type": "code",
   "execution_count": null,
   "metadata": {
    "id": "cRhKsKwh_7_s"
   },
   "outputs": [],
   "source": []
  },
  {
   "cell_type": "code",
   "execution_count": null,
   "metadata": {
    "id": "qYjVjWX1qsdp"
   },
   "outputs": [],
   "source": []
  },
  {
   "cell_type": "code",
   "execution_count": null,
   "metadata": {
    "id": "LsVF-5j0q277"
   },
   "outputs": [],
   "source": []
  },
  {
   "cell_type": "markdown",
   "metadata": {
    "id": "h4_PUhQjDET0"
   },
   "source": [
    "## Buenas prácticas para escribir código Python\n",
    "\n",
    "Las convenciones para escribir código Python se describen en [The PEP 8 Style Guide for Python Code](https://www.python.org/dev/peps/pep-0008/), entre las que encontramos,\n",
    "\n",
    "- Longitud máxima de línea: 79 caracteres.\n",
    "- 4 espacios por nivel de sangría\n",
    "- 'Hanging indentation' para contenido dentro de brackets\n",
    "- Espacio alrededor de operadores\n",
    "- Una expresión por línea"
   ]
  },
  {
   "cell_type": "code",
   "execution_count": null,
   "metadata": {
    "id": "TLfQPhZuDor1"
   },
   "outputs": [],
   "source": []
  }
 ],
 "metadata": {
  "colab": {
   "collapsed_sections": [
    "V7wzI38DKsxk",
    "-7NF3WOxA1_U"
   ],
   "name": "IntroPython.ipynb",
   "provenance": []
  },
  "kernelspec": {
   "display_name": "Python 3 (ipykernel)",
   "language": "python",
   "name": "python3"
  },
  "language_info": {
   "codemirror_mode": {
    "name": "ipython",
    "version": 3
   },
   "file_extension": ".py",
   "mimetype": "text/x-python",
   "name": "python",
   "nbconvert_exporter": "python",
   "pygments_lexer": "ipython3",
   "version": "3.9.10"
  }
 },
 "nbformat": 4,
 "nbformat_minor": 4
}
